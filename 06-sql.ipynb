{
 "cells": [
  {
   "cell_type": "markdown",
   "metadata": {},
   "source": [
    "## SQL: Databases and Structured Query language"
   ]
  },
  {
   "cell_type": "code",
   "execution_count": 1,
   "metadata": {},
   "outputs": [
    {
     "name": "stdout",
     "output_type": "stream",
     "text": [
      "--2018-07-10 15:13:01--  https://swcarpentry.github.io/sql-novice-survey/files/survey.db\n",
      "Resolving webproxy (webproxy)... 10.36.14.1\n",
      "Connecting to webproxy (webproxy)|10.36.14.1|:3128... connected.\n",
      "Proxy request sent, awaiting response... 200 OK\n",
      "Length: 5120 (5.0K) [application/octet-stream]\n",
      "Saving to: ‘survey.db’\n",
      "\n",
      "survey.db           100%[===================>]   5.00K  --.-KB/s    in 0.01s   \n",
      "\n",
      "2018-07-10 15:13:02 (513 KB/s) - ‘survey.db’ saved [5120/5120]\n",
      "\n"
     ]
    }
   ],
   "source": [
    "!wget https://swcarpentry.github.io/sql-novice-survey/files/survey.db"
   ]
  },
  {
   "cell_type": "code",
   "execution_count": 2,
   "metadata": {},
   "outputs": [
    {
     "name": "stdout",
     "output_type": "stream",
     "text": [
      "  % Total    % Received % Xferd  Average Speed   Time    Time     Time  Current\n",
      "                                 Dload  Upload   Total   Spent    Left  Speed\n",
      "100  5120  100  5120    0     0   5120      0  0:00:01 --:--:--  0:00:01 12832\n"
     ]
    }
   ],
   "source": [
    "!curl https://swcarpentry.github.io/sql-novice-survey/files/survey.db -o survey.db"
   ]
  },
  {
   "cell_type": "code",
   "execution_count": 6,
   "metadata": {},
   "outputs": [],
   "source": [
    "import sqlite3"
   ]
  },
  {
   "cell_type": "code",
   "execution_count": 7,
   "metadata": {},
   "outputs": [],
   "source": [
    "qry = \"SELECT name FROM sqlite_master WHERE type = 'table';\""
   ]
  },
  {
   "cell_type": "code",
   "execution_count": 8,
   "metadata": {},
   "outputs": [],
   "source": [
    "con = sqlite3.connect('survey.db')\n",
    "cursor = con.cursor()"
   ]
  },
  {
   "cell_type": "code",
   "execution_count": 9,
   "metadata": {},
   "outputs": [
    {
     "name": "stdout",
     "output_type": "stream",
     "text": [
      "[('Person',), ('Site',), ('Visited',), ('Survey',)]\n"
     ]
    }
   ],
   "source": [
    "#Run the query\n",
    "cursor.execute(qry)\n",
    "print(cursor.fetchall())"
   ]
  },
  {
   "cell_type": "code",
   "execution_count": 19,
   "metadata": {},
   "outputs": [],
   "source": [
    "qry = 'SELECT * FROM Person'"
   ]
  },
  {
   "cell_type": "code",
   "execution_count": 20,
   "metadata": {},
   "outputs": [
    {
     "name": "stdout",
     "output_type": "stream",
     "text": [
      "[('dyer', 'William', 'Dyer'), ('pb', 'Frank', 'Pabodie'), ('lake', 'Anderson', 'Lake'), ('roe', 'Valentina', 'Roerich'), ('danforth', 'Frank', 'Danforth'), ('callaghan', 'Martin', 'Callaghan'), ('callaghan', 'Martin', 'Callaghan')]\n"
     ]
    }
   ],
   "source": [
    "cursor.execute(qry)\n",
    "print(cursor.fetchall())"
   ]
  },
  {
   "cell_type": "code",
   "execution_count": 18,
   "metadata": {},
   "outputs": [],
   "source": [
    "cursor.execute(qry)\n",
    "for row in cursor:\n",
    "    print ('Username:', row[0], ',First Name:', row[1], ',Last Name:', row[2])"
   ]
  },
  {
   "cell_type": "code",
   "execution_count": 16,
   "metadata": {},
   "outputs": [],
   "source": [
    "qry = 'INSERT INTO Person VALUES (\"callaghan\", \"Martin\", \"Callaghan\")'"
   ]
  },
  {
   "cell_type": "code",
   "execution_count": 17,
   "metadata": {},
   "outputs": [
    {
     "data": {
      "text/plain": [
       "<sqlite3.Cursor at 0x7fad54e6d810>"
      ]
     },
     "execution_count": 17,
     "metadata": {},
     "output_type": "execute_result"
    }
   ],
   "source": [
    "cursor.execute(qry)"
   ]
  },
  {
   "cell_type": "code",
   "execution_count": 21,
   "metadata": {},
   "outputs": [],
   "source": [
    "qry = 'SELECT * FROM Visited'"
   ]
  },
  {
   "cell_type": "code",
   "execution_count": 22,
   "metadata": {},
   "outputs": [
    {
     "name": "stdout",
     "output_type": "stream",
     "text": [
      "[('619', 'DR-1', '1927-02-08'), ('622', 'DR-1', '1927-02-10'), ('734', 'DR-3', '1930-01-07'), ('735', 'DR-3', '1930-01-12'), ('751', 'DR-3', '1930-02-26'), ('752', 'DR-3', None), ('837', 'MSK-4', '1932-01-14'), ('844', 'DR-1', '1932-03-22')]\n"
     ]
    }
   ],
   "source": [
    "cursor.execute(qry)\n",
    "print(cursor.fetchall())"
   ]
  },
  {
   "cell_type": "code",
   "execution_count": 23,
   "metadata": {},
   "outputs": [],
   "source": [
    "qry = 'SELECT quant FROM Survey'"
   ]
  },
  {
   "cell_type": "code",
   "execution_count": 24,
   "metadata": {},
   "outputs": [
    {
     "name": "stdout",
     "output_type": "stream",
     "text": [
      "[('rad',), ('sal',), ('rad',), ('sal',), ('rad',), ('sal',), ('temp',), ('rad',), ('sal',), ('temp',), ('rad',), ('temp',), ('sal',), ('rad',), ('sal',), ('temp',), ('sal',), ('rad',), ('sal',), ('sal',), ('rad',)]\n"
     ]
    }
   ],
   "source": [
    "cursor.execute(qry)\n",
    "print(cursor.fetchall())"
   ]
  },
  {
   "cell_type": "code",
   "execution_count": 25,
   "metadata": {},
   "outputs": [],
   "source": [
    "qry = 'SELECT DISTINCT quant FROM Survey'"
   ]
  },
  {
   "cell_type": "code",
   "execution_count": 26,
   "metadata": {},
   "outputs": [
    {
     "name": "stdout",
     "output_type": "stream",
     "text": [
      "[('rad',), ('sal',), ('temp',)]\n"
     ]
    }
   ],
   "source": [
    "cursor.execute(qry)\n",
    "print(cursor.fetchall())"
   ]
  },
  {
   "cell_type": "code",
   "execution_count": null,
   "metadata": {},
   "outputs": [],
   "source": []
  }
 ],
 "metadata": {
  "kernelspec": {
   "display_name": "Python 3.6",
   "language": "python",
   "name": "python36"
  },
  "language_info": {
   "codemirror_mode": {
    "name": "ipython",
    "version": 3
   },
   "file_extension": ".py",
   "mimetype": "text/x-python",
   "name": "python",
   "nbconvert_exporter": "python",
   "pygments_lexer": "ipython3",
   "version": "3.6.3"
  }
 },
 "nbformat": 4,
 "nbformat_minor": 2
}
