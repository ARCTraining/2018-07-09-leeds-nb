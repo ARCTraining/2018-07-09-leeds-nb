{
 "cells": [
  {
   "cell_type": "markdown",
   "metadata": {
    "collapsed": true
   },
   "source": [
    "## Introduction to Python"
   ]
  },
  {
   "cell_type": "code",
   "execution_count": 1,
   "metadata": {},
   "outputs": [
    {
     "name": "stdout",
     "output_type": "stream",
     "text": [
      "Hello, world!\n"
     ]
    }
   ],
   "source": [
    "print (\"Hello, world!\")"
   ]
  },
  {
   "cell_type": "code",
   "execution_count": 4,
   "metadata": {},
   "outputs": [
    {
     "name": "stdout",
     "output_type": "stream",
     "text": [
      "There are 14 days in a week.\n"
     ]
    }
   ],
   "source": [
    "ndays = 14\n",
    "print ('There are', ndays, 'days in a week.')"
   ]
  },
  {
   "cell_type": "code",
   "execution_count": 5,
   "metadata": {},
   "outputs": [
    {
     "name": "stdout",
     "output_type": "stream",
     "text": [
      "My name is Martin\n"
     ]
    }
   ],
   "source": [
    "first_name = \"Martin\"\n",
    "print (\"My name is\", first_name)"
   ]
  },
  {
   "cell_type": "markdown",
   "metadata": {},
   "source": [
    "### Arithmetic"
   ]
  },
  {
   "cell_type": "code",
   "execution_count": 6,
   "metadata": {},
   "outputs": [],
   "source": [
    "# Basic arithmetic operators\n",
    "a = 4\n",
    "b = 5"
   ]
  },
  {
   "cell_type": "code",
   "execution_count": 8,
   "metadata": {},
   "outputs": [
    {
     "name": "stdout",
     "output_type": "stream",
     "text": [
      "20\n"
     ]
    }
   ],
   "source": [
    "c = a * b\n",
    "print (c)"
   ]
  },
  {
   "cell_type": "code",
   "execution_count": 10,
   "metadata": {},
   "outputs": [
    {
     "name": "stdout",
     "output_type": "stream",
     "text": [
      "Martin Callaghan\n"
     ]
    }
   ],
   "source": [
    "last_name = \"Callaghan\"\n",
    "full_name = first_name + \" \" + last_name\n",
    "print(full_name)"
   ]
  },
  {
   "cell_type": "markdown",
   "metadata": {},
   "source": [
    "### String manipulation"
   ]
  },
  {
   "cell_type": "code",
   "execution_count": 13,
   "metadata": {},
   "outputs": [
    {
     "name": "stdout",
     "output_type": "stream",
     "text": [
      "Goodbye\n"
     ]
    }
   ],
   "source": [
    "msg = 'Bonjour'\n",
    "\n",
    "if msg == 'Hello':\n",
    "    print ('Bonjour!')\n",
    "else:\n",
    "    print ('Goodbye')\n",
    "    \n"
   ]
  },
  {
   "cell_type": "code",
   "execution_count": 16,
   "metadata": {},
   "outputs": [
    {
     "name": "stdout",
     "output_type": "stream",
     "text": [
      "Pass\n"
     ]
    }
   ],
   "source": [
    "mark = 50\n",
    "\n",
    "if mark >= 80:\n",
    "    print ('Distinction')\n",
    "elif mark >= 60:\n",
    "    print ('Merit')\n",
    "elif mark >= 40:\n",
    "    print ('Pass')\n",
    "else:\n",
    "    print ('Fail')"
   ]
  },
  {
   "cell_type": "code",
   "execution_count": 17,
   "metadata": {},
   "outputs": [],
   "source": [
    "# Reusable code with functions\n",
    "def grader (mark):\n",
    "    if mark >= 80:\n",
    "        my_grade = 'Distinction'\n",
    "    elif mark >= 60:\n",
    "        my_grade = 'Merit'\n",
    "    elif mark >= 40:\n",
    "        my_grade = 'Pass'\n",
    "    else:\n",
    "        my_grade = 'Fail'\n",
    "        \n",
    "    return my_grade"
   ]
  },
  {
   "cell_type": "code",
   "execution_count": 18,
   "metadata": {},
   "outputs": [
    {
     "name": "stdout",
     "output_type": "stream",
     "text": [
      "Pass\n"
     ]
    }
   ],
   "source": [
    "john_mark = 45\n",
    "john_grade = grader (john_mark)\n",
    "print (john_grade)"
   ]
  },
  {
   "cell_type": "markdown",
   "metadata": {},
   "source": [
    "#Celsius to Fahrenheit converter\n",
    "temp_c = 20\n",
    "\n",
    "def cel_to_fahr (temp):\n",
    "    temp_f = (temp * 9/5) + 32\n",
    "    \n",
    "    return temp_f"
   ]
  },
  {
   "cell_type": "code",
   "execution_count": 20,
   "metadata": {},
   "outputs": [
    {
     "name": "stdout",
     "output_type": "stream",
     "text": [
      "The temperature is 68.0 degrees\n"
     ]
    }
   ],
   "source": [
    "print ('The temperature is', cel_to_fahr(temp_c), 'degrees')"
   ]
  },
  {
   "cell_type": "markdown",
   "metadata": {},
   "source": [
    "### Loops and lists: repeating things...\n"
   ]
  },
  {
   "cell_type": "code",
   "execution_count": 22,
   "metadata": {},
   "outputs": [],
   "source": [
    "faculties = ['Engineering', 'MAPS', 'Environment', 'FBS', 'AHC', 'ESSL', 'MedHealth', 'Business']"
   ]
  },
  {
   "cell_type": "code",
   "execution_count": 23,
   "metadata": {},
   "outputs": [
    {
     "name": "stdout",
     "output_type": "stream",
     "text": [
      "Engineering\n"
     ]
    }
   ],
   "source": [
    "print (faculties[0])"
   ]
  },
  {
   "cell_type": "code",
   "execution_count": 34,
   "metadata": {},
   "outputs": [
    {
     "name": "stdout",
     "output_type": "stream",
     "text": [
      "['Engineering', 'MAPS', 'Environment', 'FBS', 'AHC', 'ESSL', 'MedHealth', 'Business']\n"
     ]
    }
   ],
   "source": [
    "print (faculties[:])\n"
   ]
  },
  {
   "cell_type": "code",
   "execution_count": 35,
   "metadata": {},
   "outputs": [
    {
     "name": "stdout",
     "output_type": "stream",
     "text": [
      "['MAPS', 'FBS', 'ESSL']\n"
     ]
    }
   ],
   "source": [
    "print (faculties[1:6:2])"
   ]
  },
  {
   "cell_type": "code",
   "execution_count": 38,
   "metadata": {},
   "outputs": [
    {
     "name": "stdout",
     "output_type": "stream",
     "text": [
      "Engineering\n",
      "MAPS\n",
      "Environment\n",
      "FBS\n",
      "AHC\n",
      "ESSL\n",
      "MedHealth\n",
      "Business\n"
     ]
    }
   ],
   "source": [
    "for f in faculties:\n",
    "    print (f)\n",
    "    "
   ]
  },
  {
   "cell_type": "code",
   "execution_count": 39,
   "metadata": {},
   "outputs": [
    {
     "name": "stdout",
     "output_type": "stream",
     "text": [
      "151\n"
     ]
    }
   ],
   "source": [
    "numbers = [1, 10, 20, 30, 40, 50]\n",
    "sum = 0\n",
    "\n",
    "for n in numbers:\n",
    "    sum = sum + n\n",
    "\n",
    "print (sum)\n"
   ]
  },
  {
   "cell_type": "code",
   "execution_count": 40,
   "metadata": {},
   "outputs": [
    {
     "name": "stdout",
     "output_type": "stream",
     "text": [
      "1\n",
      "2\n",
      "3\n",
      "4\n",
      "5\n",
      "6\n",
      "7\n",
      "8\n",
      "9\n"
     ]
    }
   ],
   "source": [
    "for i in range(1, 10):\n",
    "    print (i)"
   ]
  },
  {
   "cell_type": "code",
   "execution_count": 41,
   "metadata": {},
   "outputs": [
    {
     "name": "stdout",
     "output_type": "stream",
     "text": [
      "M\n",
      "a\n",
      "r\n",
      "t\n",
      "i\n",
      "n\n"
     ]
    }
   ],
   "source": [
    "for letter in 'Martin':\n",
    "    print (letter)"
   ]
  },
  {
   "cell_type": "code",
   "execution_count": 43,
   "metadata": {},
   "outputs": [
    {
     "name": "stdout",
     "output_type": "stream",
     "text": [
      "i r\n"
     ]
    }
   ],
   "source": [
    "my_name = 'martin'\n",
    "print (my_name[4], my_name[2])\n"
   ]
  },
  {
   "cell_type": "code",
   "execution_count": 44,
   "metadata": {},
   "outputs": [
    {
     "name": "stdout",
     "output_type": "stream",
     "text": [
      "[1, 10, 20, 30, 40, 50]\n"
     ]
    }
   ],
   "source": [
    "print (numbers)"
   ]
  },
  {
   "cell_type": "code",
   "execution_count": 45,
   "metadata": {},
   "outputs": [],
   "source": [
    "numbers [2] = 25"
   ]
  },
  {
   "cell_type": "code",
   "execution_count": 46,
   "metadata": {},
   "outputs": [
    {
     "name": "stdout",
     "output_type": "stream",
     "text": [
      "[1, 10, 25, 30, 40, 50]\n"
     ]
    }
   ],
   "source": [
    "print (numbers)"
   ]
  },
  {
   "cell_type": "code",
   "execution_count": 49,
   "metadata": {},
   "outputs": [
    {
     "name": "stdout",
     "output_type": "stream",
     "text": [
      "[1, 10, 25, 30, 40, 50, 60, 60]\n"
     ]
    }
   ],
   "source": [
    "numbers.append (60)\n",
    "print (numbers)"
   ]
  },
  {
   "cell_type": "code",
   "execution_count": 50,
   "metadata": {},
   "outputs": [],
   "source": [
    "new_values = [80, 90, 100]\n",
    "\n",
    "for n in new_values:\n",
    "    numbers.append(n)\n",
    "    "
   ]
  },
  {
   "cell_type": "code",
   "execution_count": 51,
   "metadata": {},
   "outputs": [
    {
     "name": "stdout",
     "output_type": "stream",
     "text": [
      "[1, 10, 25, 30, 40, 50, 60, 60, 80, 90, 100]\n"
     ]
    }
   ],
   "source": [
    "print (numbers)"
   ]
  },
  {
   "cell_type": "code",
   "execution_count": 52,
   "metadata": {},
   "outputs": [
    {
     "name": "stdout",
     "output_type": "stream",
     "text": [
      "[1, 10, 25, 30, 40, 50, 60, 60, 80, 90, 100, 80, 90, 100]\n"
     ]
    }
   ],
   "source": [
    "new_numbers = numbers + new_values\n",
    "print (new_numbers)"
   ]
  },
  {
   "cell_type": "code",
   "execution_count": 53,
   "metadata": {},
   "outputs": [
    {
     "data": {
      "text/plain": [
       "list"
      ]
     },
     "execution_count": 53,
     "metadata": {},
     "output_type": "execute_result"
    }
   ],
   "source": [
    "type(new_numbers)"
   ]
  },
  {
   "cell_type": "code",
   "execution_count": 55,
   "metadata": {},
   "outputs": [],
   "source": [
    "new_list = ['1', '10', '25', '30']"
   ]
  },
  {
   "cell_type": "code",
   "execution_count": 57,
   "metadata": {},
   "outputs": [
    {
     "name": "stdout",
     "output_type": "stream",
     "text": [
      "1102530\n"
     ]
    }
   ],
   "source": [
    "sum = \"\"\n",
    "\n",
    "for n in new_list:\n",
    "    sum = sum + n\n",
    "    \n",
    "print (sum)"
   ]
  },
  {
   "cell_type": "code",
   "execution_count": 59,
   "metadata": {},
   "outputs": [
    {
     "name": "stdout",
     "output_type": "stream",
     "text": [
      "55126.5\n"
     ]
    }
   ],
   "source": [
    "print (int(sum) / 20)"
   ]
  },
  {
   "cell_type": "markdown",
   "metadata": {},
   "source": [
    "## Dictionaries"
   ]
  },
  {
   "cell_type": "code",
   "execution_count": 60,
   "metadata": {},
   "outputs": [
    {
     "data": {
      "text/plain": [
       "dict"
      ]
     },
     "execution_count": 60,
     "metadata": {},
     "output_type": "execute_result"
    }
   ],
   "source": [
    "example = {}\n",
    "type (example)"
   ]
  },
  {
   "cell_type": "code",
   "execution_count": 61,
   "metadata": {},
   "outputs": [],
   "source": [
    "marks = {}"
   ]
  },
  {
   "cell_type": "code",
   "execution_count": 62,
   "metadata": {},
   "outputs": [],
   "source": [
    "marks [1] = 45\n",
    "marks ['John'] = 55"
   ]
  },
  {
   "cell_type": "code",
   "execution_count": 63,
   "metadata": {},
   "outputs": [
    {
     "data": {
      "text/plain": [
       "{1: 45, 'John': 55}"
      ]
     },
     "execution_count": 63,
     "metadata": {},
     "output_type": "execute_result"
    }
   ],
   "source": [
    "marks"
   ]
  },
  {
   "cell_type": "code",
   "execution_count": 64,
   "metadata": {},
   "outputs": [
    {
     "data": {
      "text/plain": [
       "[1, 'John']"
      ]
     },
     "execution_count": 64,
     "metadata": {},
     "output_type": "execute_result"
    }
   ],
   "source": [
    "# Look at the keys\n",
    "list (marks.keys())"
   ]
  },
  {
   "cell_type": "code",
   "execution_count": 65,
   "metadata": {},
   "outputs": [
    {
     "data": {
      "text/plain": [
       "[45, 55]"
      ]
     },
     "execution_count": 65,
     "metadata": {},
     "output_type": "execute_result"
    }
   ],
   "source": [
    "# Look at the values\n",
    "list (marks.values())"
   ]
  },
  {
   "cell_type": "code",
   "execution_count": 71,
   "metadata": {},
   "outputs": [],
   "source": [
    "my_class = {}\n",
    "my_class ['Afzal'] = 91\n",
    "my_class ['John'] = 55\n",
    "my_class ['Rebecca'] = 85\n",
    "my_class ['Afzal'] = 72\n"
   ]
  },
  {
   "cell_type": "code",
   "execution_count": 72,
   "metadata": {},
   "outputs": [
    {
     "data": {
      "text/plain": [
       "{'Afzal': 72, 'John': 55, 'Rebecca': 85}"
      ]
     },
     "execution_count": 72,
     "metadata": {},
     "output_type": "execute_result"
    }
   ],
   "source": [
    "my_class"
   ]
  },
  {
   "cell_type": "code",
   "execution_count": 73,
   "metadata": {},
   "outputs": [
    {
     "data": {
      "text/plain": [
       "[72, 55, 85]"
      ]
     },
     "execution_count": 73,
     "metadata": {},
     "output_type": "execute_result"
    }
   ],
   "source": [
    "list (my_class.values())"
   ]
  },
  {
   "cell_type": "code",
   "execution_count": 75,
   "metadata": {},
   "outputs": [],
   "source": [
    "sum = 0\n",
    "for n in list (my_class.values()):\n",
    "    sum = sum + n"
   ]
  },
  {
   "cell_type": "code",
   "execution_count": 76,
   "metadata": {},
   "outputs": [
    {
     "name": "stdout",
     "output_type": "stream",
     "text": [
      "212\n"
     ]
    }
   ],
   "source": [
    "print (sum)"
   ]
  },
  {
   "cell_type": "code",
   "execution_count": 77,
   "metadata": {},
   "outputs": [
    {
     "name": "stdout",
     "output_type": "stream",
     "text": [
      "3\n"
     ]
    }
   ],
   "source": [
    "length = len(my_class.values())\n",
    "print (length)"
   ]
  },
  {
   "cell_type": "code",
   "execution_count": 78,
   "metadata": {},
   "outputs": [
    {
     "name": "stdout",
     "output_type": "stream",
     "text": [
      "70.66666666666667\n"
     ]
    }
   ],
   "source": [
    "mean = sum / length\n",
    "print (mean)"
   ]
  },
  {
   "cell_type": "code",
   "execution_count": 79,
   "metadata": {},
   "outputs": [],
   "source": [
    "#Putting it together\n",
    "names = ['Afzal', 'John', 'Rebecca']\n",
    "marks = [90, 65, 79]"
   ]
  },
  {
   "cell_type": "code",
   "execution_count": 80,
   "metadata": {},
   "outputs": [],
   "source": [
    "def grader (m, n):\n",
    "    class_grades = {}\n",
    "    \n",
    "    for mark in m:\n",
    "        if mark >= 80:\n",
    "            my_grade = 'Distinction'\n",
    "        elif mark >= 60:\n",
    "            my_grade = 'Merit'\n",
    "        elif mark >= 40:\n",
    "            my_grade = 'Pass'\n",
    "        else:\n",
    "            my_grade = 'Fail'\n",
    "        \n",
    "        idx = m.index(mark)\n",
    "        name = n[idx]\n",
    "        \n",
    "        #Add the name and grade to the dictionary\n",
    "        class_grades[name] = my_grade\n",
    "        \n",
    "    #return class_grades\n",
    "    print (class_grades)"
   ]
  },
  {
   "cell_type": "code",
   "execution_count": 81,
   "metadata": {},
   "outputs": [
    {
     "name": "stdout",
     "output_type": "stream",
     "text": [
      "{'Afzal': 'Distinction', 'John': 'Merit', 'Rebecca': 'Merit'}\n"
     ]
    }
   ],
   "source": [
    "grader (marks, names)"
   ]
  },
  {
   "cell_type": "code",
   "execution_count": null,
   "metadata": {},
   "outputs": [],
   "source": []
  }
 ],
 "metadata": {
  "kernelspec": {
   "display_name": "Python 3.6",
   "language": "python",
   "name": "python36"
  },
  "language_info": {
   "codemirror_mode": {
    "name": "ipython",
    "version": 3
   },
   "file_extension": ".py",
   "mimetype": "text/x-python",
   "name": "python",
   "nbconvert_exporter": "python",
   "pygments_lexer": "ipython3",
   "version": "3.6.3"
  }
 },
 "nbformat": 4,
 "nbformat_minor": 2
}
