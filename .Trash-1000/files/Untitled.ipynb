{
 "cells": [
  {
   "cell_type": "code",
   "execution_count": 1,
   "metadata": {},
   "outputs": [
    {
     "name": "stdout",
     "output_type": "stream",
     "text": [
      "Archive:  python-novice-inflammation-code.zip\n",
      "  inflating: code/argv_list.py       \n",
      "  inflating: code/arith.py           \n",
      "  inflating: code/check.py           \n",
      "  inflating: code/count_stdin.py     \n",
      "  inflating: code/gen_inflammation.py  \n",
      "  inflating: code/line_count.py      \n",
      "  inflating: code/my_ls.py           \n",
      "  inflating: code/readings_01.py     \n",
      "  inflating: code/readings_02.py     \n",
      "  inflating: code/readings_03.py     \n",
      "  inflating: code/readings_04.py     \n",
      "  inflating: code/readings_05.py     \n",
      "  inflating: code/readings_06.py     \n",
      "  inflating: code/readings_07.py     \n",
      "  inflating: code/readings_08.py     \n",
      "  inflating: code/readings_09.py     \n",
      "  inflating: code/rectangle.py       \n",
      "  inflating: code/sys_version.py     \n"
     ]
    }
   ],
   "source": [
    "!unzip python-novice-inflammation-code.zip"
   ]
  },
  {
   "cell_type": "code",
   "execution_count": 2,
   "metadata": {},
   "outputs": [
    {
     "name": "stdout",
     "output_type": "stream",
     "text": [
      "Archive:  python-novice-inflammation-data.zip\n",
      "   creating: data/\n",
      "  inflating: data/inflammation-01.csv  \n",
      "  inflating: data/inflammation-02.csv  \n",
      "  inflating: data/inflammation-03.csv  \n",
      "  inflating: data/inflammation-04.csv  \n",
      "  inflating: data/inflammation-05.csv  \n",
      "  inflating: data/inflammation-06.csv  \n",
      "  inflating: data/inflammation-07.csv  \n",
      "  inflating: data/inflammation-08.csv  \n",
      "  inflating: data/inflammation-09.csv  \n",
      "  inflating: data/inflammation-10.csv  \n",
      "  inflating: data/inflammation-11.csv  \n",
      "  inflating: data/inflammation-12.csv  \n",
      " extracting: data/small-01.csv       \n",
      " extracting: data/small-02.csv       \n",
      " extracting: data/small-03.csv       \n"
     ]
    }
   ],
   "source": [
    "!unzip python-novice-inflammation-data.zip"
   ]
  },
  {
   "cell_type": "code",
   "execution_count": 3,
   "metadata": {},
   "outputs": [
    {
     "name": "stdout",
     "output_type": "stream",
     "text": [
      "code  python-novice-inflammation-code.zip  Untitled.ipynb\r\n",
      "data  python-novice-inflammation-data.zip\r\n"
     ]
    }
   ],
   "source": [
    "!ls"
   ]
  },
  {
   "cell_type": "code",
   "execution_count": 4,
   "metadata": {},
   "outputs": [],
   "source": [
    "rm *.zip\n"
   ]
  },
  {
   "cell_type": "code",
   "execution_count": 5,
   "metadata": {},
   "outputs": [
    {
     "name": "stdout",
     "output_type": "stream",
     "text": [
      "code  data  Untitled.ipynb\r\n"
     ]
    }
   ],
   "source": [
    "!ls\n"
   ]
  },
  {
   "cell_type": "code",
   "execution_count": null,
   "metadata": {},
   "outputs": [],
   "source": []
  }
 ],
 "metadata": {
  "kernelspec": {
   "display_name": "Python 3.6",
   "language": "python",
   "name": "python36"
  },
  "language_info": {
   "codemirror_mode": {
    "name": "ipython",
    "version": 3
   },
   "file_extension": ".py",
   "mimetype": "text/x-python",
   "name": "python",
   "nbconvert_exporter": "python",
   "pygments_lexer": "ipython3",
   "version": "3.6.3"
  }
 },
 "nbformat": 4,
 "nbformat_minor": 2
}
